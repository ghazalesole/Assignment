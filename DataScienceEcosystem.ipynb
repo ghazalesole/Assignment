{
 "cells": [
  {
   "cell_type": "markdown",
   "id": "7ff9ee01-9a24-46dd-9527-52436dd23f4e",
   "metadata": {},
   "source": [
    "Data Science Tools and Ecosystem"
   ]
  },
  {
   "cell_type": "markdown",
   "id": "91e1cf5e-d708-4ea4-84de-3cb4885d9923",
   "metadata": {},
   "source": [
    "In this notebook, Data Science Tools and Ecosystem are summarized"
   ]
  },
  {
   "cell_type": "markdown",
   "id": "12b6edd2-4347-421b-aa30-41bbff827dc0",
   "metadata": {},
   "source": [
    "Some of the popular languages that Data Scientists use are:\n",
    "1. Python\n",
    "2. R\n",
    "3. SQL\n",
    "4. Java\n",
    "5. Julia"
   ]
  },
  {
   "cell_type": "markdown",
   "id": "42931223-4d36-4e34-8f8d-cb23aaaa46ca",
   "metadata": {},
   "source": [
    "Some of the commonly used libraries used by Data Scientists include:\n",
    "1. NumPy\n",
    "2. Keras\n",
    "3. Pandas\n",
    "4. PyTorch\n",
    "5. SciPy"
   ]
  },
  {
   "cell_type": "markdown",
   "id": "b9be5639-f38d-4005-b225-6df9cd2b6ec7",
   "metadata": {},
   "source": [
    "|Data Science Tools|\n",
    "|------------------|\n",
    "|RStudio|\n",
    "|Apache Spark|\n",
    "|Apache Hadoop|"
   ]
  },
  {
   "cell_type": "markdown",
   "id": "1fd0cde3-9c00-410f-84b7-d6a2bce4ba69",
   "metadata": {},
   "source": [
    "### Below are a few examples of evaluating arithmetic expressions in Python"
   ]
  },
  {
   "cell_type": "code",
   "execution_count": 2,
   "id": "159afc43-c945-4c54-92fb-ceee5a039196",
   "metadata": {
    "tags": []
   },
   "outputs": [
    {
     "data": {
      "text/plain": [
       "17"
      ]
     },
     "execution_count": 2,
     "metadata": {},
     "output_type": "execute_result"
    }
   ],
   "source": [
    "# This a simple arithmetic expression to mutiply then add integers\n",
    "(3*4)+5"
   ]
  },
  {
   "cell_type": "code",
   "execution_count": 3,
   "id": "6708c8cd-62e8-40c6-a319-2e710f9434bb",
   "metadata": {
    "tags": []
   },
   "outputs": [
    {
     "data": {
      "text/plain": [
       "3.3333333333333335"
      ]
     },
     "execution_count": 3,
     "metadata": {},
     "output_type": "execute_result"
    }
   ],
   "source": [
    "#  This will convert 200 minutes to hours by diving by 60\n",
    "200/60"
   ]
  },
  {
   "cell_type": "markdown",
   "id": "cc09316c-5261-4278-b2f9-69b32eb31eaa",
   "metadata": {},
   "source": [
    "__Objectives:__\n",
    "* Popular Languages for Data Science\n",
    "* Popular Libraries for Data Science\n",
    "* Markdown Cell Capabilities\n"
   ]
  },
  {
   "cell_type": "markdown",
   "id": "51f9846a-fd8e-4e6d-abee-e3b6b8eb9130",
   "metadata": {},
   "source": [
    "## Author: \n",
    "Ghazale "
   ]
  },
  {
   "cell_type": "code",
   "execution_count": null,
   "id": "1bd76e84-bbf7-44c0-a45c-e60d150b88e3",
   "metadata": {},
   "outputs": [],
   "source": []
  }
 ],
 "metadata": {
  "kernelspec": {
   "display_name": "Python 3 (ipykernel)",
   "language": "python",
   "name": "python3"
  },
  "language_info": {
   "codemirror_mode": {
    "name": "ipython",
    "version": 3
   },
   "file_extension": ".py",
   "mimetype": "text/x-python",
   "name": "python",
   "nbconvert_exporter": "python",
   "pygments_lexer": "ipython3",
   "version": "3.11.4"
  }
 },
 "nbformat": 4,
 "nbformat_minor": 5
}
